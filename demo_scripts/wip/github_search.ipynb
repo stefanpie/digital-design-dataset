{
 "cells": [
  {
   "cell_type": "code",
   "execution_count": 1,
   "metadata": {},
   "outputs": [],
   "source": [
    "import json\n",
    "import math\n",
    "from pathlib import Path\n",
    "from urllib.parse import quote\n",
    "\n",
    "import requests\n",
    "from dotenv import dotenv_values\n",
    "from ghapi.all import GhApi\n",
    "\n",
    "current_script_dir = Path(\"demo_scripts\")"
   ]
  },
  {
   "cell_type": "code",
   "execution_count": 2,
   "metadata": {},
   "outputs": [],
   "source": [
    "env_config = dotenv_values(current_script_dir / \".env\")\n",
    "gh_token = None\n",
    "if \"GITHUB_TOKEN\" in env_config:\n",
    "    gh_token = env_config[\"GITHUB_TOKEN\"]\n",
    "if gh_token is None:\n",
    "    raise ValueError(\"GITHUB_TOKEN not found in .env file\")"
   ]
  },
  {
   "cell_type": "code",
   "execution_count": 3,
   "metadata": {},
   "outputs": [],
   "source": [
    "# api = GhApi(token=gh_token)\n",
    "# api.search.code(q='\"CAPI=2:\"+path:*.core', per_page=20, page=1)\n",
    "\n",
    "q = '\"CAPI=2:\" AND \"filesets:\"'\n",
    "q_enc = quote(q)\n",
    "per_page = 100\n",
    "\n",
    "repos = set()\n",
    "headers = {\"Authorization\": f\"token {gh_token}\"}\n",
    "r = requests.get(\n",
    "    f\"https://api.github.com/search/code?q={q_enc}&per_page={1}&page={1}\",\n",
    "    headers=headers,\n",
    ")\n",
    "data = r.json()\n",
    "total_count = data[\"total_count\"]\n",
    "pages = math.ceil(total_count / per_page)\n",
    "for i in range(1, pages + 1):\n",
    "    r = requests.get(\n",
    "        f\"https://api.github.com/search/code?q={q_enc}&per_page={per_page}&page={i}\",\n",
    "        headers=headers,\n",
    "    )\n",
    "    data = r.json()\n",
    "    items = data[\"items\"]\n",
    "    for item in items:\n",
    "        repos.add(item[\"repository\"][\"full_name\"])"
   ]
  },
  {
   "cell_type": "code",
   "execution_count": 7,
   "metadata": {},
   "outputs": [],
   "source": [
    "output_dir = current_script_dir / \"output\"\n",
    "output_dir.mkdir(exist_ok=True)\n",
    "with open(output_dir / \"github_fusesoc_cores_search.json\", \"w\") as f:\n",
    "    json.dump(list(repos), f, indent=4)"
   ]
  },
  {
   "cell_type": "code",
   "execution_count": null,
   "metadata": {},
   "outputs": [],
   "source": []
  }
 ],
 "metadata": {
  "kernelspec": {
   "display_name": "self_supervised_circuits",
   "language": "python",
   "name": "python3"
  },
  "language_info": {
   "codemirror_mode": {
    "name": "ipython",
    "version": 3
   },
   "file_extension": ".py",
   "mimetype": "text/x-python",
   "name": "python",
   "nbconvert_exporter": "python",
   "pygments_lexer": "ipython3",
   "version": "3.10.12"
  },
  "orig_nbformat": 4
 },
 "nbformat": 4,
 "nbformat_minor": 2
}
